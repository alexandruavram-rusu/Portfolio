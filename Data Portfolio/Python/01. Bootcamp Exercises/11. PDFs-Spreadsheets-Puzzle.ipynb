{
 "cells": [
  {
   "cell_type": "markdown",
   "metadata": {},
   "source": [
    "___\n",
    "\n",
    "<a href='https://www.udemy.com/user/joseportilla/'><img src='../Pierian_Data_Logo.png'/></a>\n",
    "___\n",
    "<center><em>Content Copyright by Pierian Data</em></center>"
   ]
  },
  {
   "cell_type": "markdown",
   "metadata": {},
   "source": [
    "# PDFs and Spreadsheets Puzzle Exercise\n",
    "\n",
    "Let's test your skills, the files needed for this puzzle exercise\n",
    "\n",
    "You will need to work with two files for this exercise and solve the following tasks:\n",
    "\n",
    "* Task One: Use Python to extract the Google Drive link from the .csv file. (Hint: Its along the diagonal from top left to bottom right).\n",
    "* Task Two: Download the PDF from the Google Drive link (we already downloaded it for you just in case you can't download from Google Drive) and find the phone number that is in the document. Note: There are different ways of formatting a phone number!"
   ]
  },
  {
   "cell_type": "markdown",
   "metadata": {},
   "source": [
    "## Task One: Grab the Google Drive Link from .csv File"
   ]
  },
  {
   "cell_type": "code",
   "execution_count": 1,
   "metadata": {},
   "outputs": [],
   "source": [
    "import csv"
   ]
  },
  {
   "cell_type": "code",
   "execution_count": 2,
   "metadata": {},
   "outputs": [
    {
     "name": "stdout",
     "output_type": "stream",
     "text": [
      "['h', '53', '24', '46', '4', '11', '3', '35', '17', '52', '9', '60', '26', '60', '72', '39', '11', '80', '86', '66', '59', '9', '41', '33', '11', '42', '69', '74', '91', '61', '5', '69', '17', '17', '78', '6', '51', '54', '54', '94', '47', '37', '0', '16', '71', '6', '83', '7', '6', '38', '61', '18', '68', '15', '2', '81', '49', '5', '17', '21', '36', '63', '38', '24', '3', '99']\n",
      "['85', 't', '31', '54', '60', '22', '77', '39', '93', '38', '31', '16', '29', '27', '8', '35', '0', '54', '84', '21', '47', '37', '66', '83', '26', '22', '68', '25', '44', '81', '27', '68', '17', '63', '13', '99', '38', '43', '87', '83', '73', '88', '67', '5', '12', '10', '7', '58', '64', '56', '53', '88', '96', '20', '7', '85', '94', '23', '14', '79', '24', '27', '90', '40', '27', '8']\n",
      "['22', '98', 't', '83', '33', '53', '66', '13', '81', '53', '60', '52', '45', '51', '39', '98', '14', '94', '68', '5', '99', '62', '68', '95', '50', '81', '64', '58', '96', '1', '71', '4', '60', '57', '84', '39', '5', '24', '79', '19', '86', '20', '15', '55', '68', '26', '81', '78', '3', '2', '24', '64', '17', '86', '3', '16', '89', '81', '33', '70', '42', '5', '31', '42', '45', '42']\n",
      "['11', '58', '4', 'p', '59', '85', '97', '35', '11', '78', '75', '23', '83', '37', '79', '8', '82', '42', '73', '9', '13', '98', '57', '50', '28', '41', '55', '58', '33', '85', '80', '69', '64', '53', '87', '38', '58', '48', '31', '82', '56', '14', '49', '8', '50', '4', '5', '9', '69', '33', '61', '24', '61', '21', '59', '1', '81', '73', '13', '75', '21', '13', '15', '85', '71', '36']\n",
      "['0', '15', '8', '77', 's', '90', '42', '25', '38', '93', '18', '81', '6', '31', '17', '3', '55', '91', '46', '30', '28', '6', '45', '66', '97', '9', '71', '31', '26', '50', '86', '52', '24', '93', '97', '18', '71', '79', '61', '9', '19', '67', '74', '48', '54', '30', '69', '1', '43', '11', '8', '97', '52', '22', '66', '81', '55', '53', '5', '91', '30', '14', '62', '27', '27', '33']\n"
     ]
    }
   ],
   "source": [
    "f = open('Exercise_Files/find_the_link.csv',encoding=\"utf-8\")\n",
    "data = csv.reader(f)\n",
    "data_lines = list(data)\n",
    "\n",
    "#get header & first 4 lines\n",
    "for line in data_lines[:5]:\n",
    "    print(line)"
   ]
  },
  {
   "cell_type": "markdown",
   "metadata": {},
   "source": [
    "From what I can see is a `https` spelled out in diagonal."
   ]
  },
  {
   "cell_type": "code",
   "execution_count": 3,
   "metadata": {},
   "outputs": [
    {
     "data": {
      "text/plain": [
       "66"
      ]
     },
     "execution_count": 3,
     "metadata": {},
     "output_type": "execute_result"
    }
   ],
   "source": [
    "len(data_lines)"
   ]
  },
  {
   "cell_type": "code",
   "execution_count": 4,
   "metadata": {},
   "outputs": [
    {
     "data": {
      "text/plain": [
       "66"
      ]
     },
     "execution_count": 4,
     "metadata": {},
     "output_type": "execute_result"
    }
   ],
   "source": [
    "len('https://drive.google.com/open?id=1G6SEgg018UB4_4xsAJJ5TdzrhmXipr4Q')"
   ]
  },
  {
   "cell_type": "markdown",
   "metadata": {},
   "source": [
    "The number of lines in the csv file is also equal to the solution we are given. So, we need to create a list and append it with diagonal imputs from 0 to 66. After we create the list, we will join it into a single link."
   ]
  },
  {
   "cell_type": "code",
   "execution_count": 5,
   "metadata": {},
   "outputs": [],
   "source": [
    "# empty list\n",
    "link = []\n",
    "\n",
    "# a for loop to iterate through the list\n",
    "# we can use enumerate here\n",
    "\n",
    "for row_num, data in enumerate(data_lines):\n",
    "    link.append(data[row_num])"
   ]
  },
  {
   "cell_type": "code",
   "execution_count": 6,
   "metadata": {},
   "outputs": [
    {
     "data": {
      "text/plain": [
       "'https://drive.google.com/open?id=1G6SEgg018UB4_4xsAJJ5TdzrhmXipr4Q'"
      ]
     },
     "execution_count": 6,
     "metadata": {},
     "output_type": "execute_result"
    }
   ],
   "source": [
    "# using joing to avoid printing out a huge list\n",
    "\n",
    "''.join(link)"
   ]
  },
  {
   "cell_type": "code",
   "execution_count": 7,
   "metadata": {},
   "outputs": [
    {
     "name": "stdout",
     "output_type": "stream",
     "text": [
      "https://drive.google.com/open?id=1G6SEgg018UB4_4xsAJJ5TdzrhmXipr4Q\n"
     ]
    }
   ],
   "source": [
    "# THe correct result is shown below, if you can't download from Google Drive, \n",
    "# we added the PDF file to the Exercise_Files folder already\n",
    "\n",
    "print(\"https://drive.google.com/open?id=1G6SEgg018UB4_4xsAJJ5TdzrhmXipr4Q\")"
   ]
  },
  {
   "cell_type": "markdown",
   "metadata": {},
   "source": [
    "## Task Two: Download the PDF from the Google Drive link and find the phone number that is in the document. "
   ]
  },
  {
   "cell_type": "code",
   "execution_count": 8,
   "metadata": {},
   "outputs": [],
   "source": [
    "import PyPDF2"
   ]
  },
  {
   "cell_type": "code",
   "execution_count": 15,
   "metadata": {},
   "outputs": [],
   "source": [
    "# At first, we open the file in read binary\n",
    "\n",
    "f = open('Exercise_Files/Find_the_Phone_Number.pdf','rb')\n",
    "\n",
    "# After that, we read it\n",
    "\n",
    "pdf_reader = PyPDF2.PdfFileReader(f)"
   ]
  },
  {
   "cell_type": "code",
   "execution_count": 16,
   "metadata": {},
   "outputs": [
    {
     "data": {
      "text/plain": [
       "\"Business Deliverables\\n \\n \\n \\nStaff engagement touch base yet can I just chime in on that one draw a line in the sand \\nthis proposal is a win\\n-\\nwin situation which will cause a stellar paradigm shift, and \\nproduce a multi\\n-\\nfold increase in deliverables but \\nfuture\\n-\\nproof. I dont care if you got some \\ncopy, why you dont use officeipsumcom or something like that ? low\\n-\\nhanging fruit beef \\nup, and optimize for search or we need to leverage our synergies. We need to make the \\nnew version clean and sexy bells and whist\\nles, so meeting assassin, and execute . \\nBaseline the procedure and samepage your department push back yet strategic high\\n-\\nlevel 30,000 ft view powerPointless, but deliverables nor circle back. Paddle on both \\nsides conversational content win\\n-\\nwin\\n-\\nwin nor pig \\nin a python overcome key issues to \\nmeet key milestones. Personal development crisp ppt deep dive. Can we parallel path \\nblue sky and this proposal is a win\\n-\\nwin situation which will cause a stellar paradigm \\nshift, and produce a multi\\n-\\nfold increase in deliver\\nables. Where the metal hits the meat \\nhorsehead offer. Onward and upward, productize the deliverables and focus on the \\n\\nknowledge process outsourcing. Slow\\n-\\nwalk our commitmen\\nt synergize productive \\nmindfulness so high turnaround rate we need to harvest synergy effects. Who's the goto \\non this job with the way forward tbrand terrorists. Your work on this project has been \\nreally impactful. Pushback quantity shoot me an email so si\\nngle wringable neck hit the \\n\\n\\nPerformance review let's not solutionize this right now parkin\\ng lot it so win\\n-\\nwin\\n-\\nwin and \\nfast track gain traction. At the end of the day player\\n-\\ncoach nor we need to leverage our \\nsynergies. Can we take this offline vec we've bootstrapped the model nor feature creep.\\n \\n \\n \\nChurning anomalies. Face time. Are we in agreeanc\\ne 60% to 30% is a lot of persent no \\nscraps hit the floor, nor critical mass. Can you run this by clearance? hot johnny coming \\nthrough . This proposal is a win\\n-\\nwin situation which will cause a stellar paradigm shift, \\nand produce a multi\\n-\\nfold increase in del\\niverables we need to aspirationalise our \\nofferings so this vendor is incompetent , nor organic growth. Dog and pony show. Turn \\nthe ship. If you want to motivate these clowns, try less carrot and more stick imagineer, \\nbut product market fit and we need to c\\nrystallize a plan pro\\n-\\nsumer software for strategic \\nfit programmatically.\\n \\n \\n \\n\""
      ]
     },
     "execution_count": 16,
     "metadata": {},
     "output_type": "execute_result"
    }
   ],
   "source": [
    "# Get the first page\n",
    "page_one = pdf_reader.getPage(0)\n",
    "\n",
    "# Extracting the text\n",
    "page_one_text = page_one.extractText()\n",
    "\n",
    "page_one_text"
   ]
  },
  {
   "cell_type": "markdown",
   "metadata": {},
   "source": [
    "No phone number in the first page. That means, the phone number might be either on the last page or hidden in the text. Lets try first grabbing the last page."
   ]
  },
  {
   "cell_type": "code",
   "execution_count": 19,
   "metadata": {},
   "outputs": [
    {
     "data": {
      "text/plain": [
       "17"
      ]
     },
     "execution_count": 19,
     "metadata": {},
     "output_type": "execute_result"
    }
   ],
   "source": [
    "# Finding out the number of pages\n",
    "\n",
    "pdf_reader.numPages"
   ]
  },
  {
   "cell_type": "code",
   "execution_count": 20,
   "metadata": {},
   "outputs": [
    {
     "data": {
      "text/plain": [
       "\"line in the sand, for zeitgeist. Per my previous email we need to harvest synergy effects. \\nDear hiring manager: you better eat a reality sandwich before you walk back in that \\nboardroom. Ladder up / ladder back to the strategy cloud native container based\\n \\n(let's \\nnot try to) boil the ocean (here/there/everywhere), strategic fit. Game\\n-\\nplan target rich \\nenvironment for bench mark. Hammer out game\\n-\\nplan it's a simple lift and shift job. Put \\nin in a deck for our standup today manage expectations nor baseline the \\nprocedure and \\nsamepage your department, but optimize the fireball. Viral engagement criticality \\nproceduralize going forward don't over think it nor wheelhouse. Synergestic actionables \\ndrop\\n-\\ndead date, so collaboration through advanced technlogy horsehead of\\nfer. \\nRehydrate the team can we align on lunch orders, for goalposts show pony. Sorry i \\ndidn't get your email design thinking for turn the crank, for old boys club. Those options \\nare already baked in with this model loop back, and hammer out. Incentivizatio\\nn no \\nscraps hit the floor synergize productive mindfulness baseline yet not a hill to die on \\ndrink the Kool\\n-\\naid. Big boy pants marketing computer development html roi feedback \\nteam website paddle on both sides, and quick\\n-\\nwin. This medium needs to be more \\nd\\nynamic it is all exactly as i said, but i don't like it churning anomalies ultimate measure \\nof success nor parallel path. After I ran into Helen at a restaurant, I realized she was \\njust office pretty focus on the customer journey so pipeline. Who's respons\\nible for the \\nask for this request? minimize backwards overflow performance review but I just wanted \\nto give you a heads\\n-\\nup. Put it on the parking lot drive awareness to increase \\nengagement for that ipo will be a game\\n-\\nchanger product market fit for your wor\\nk on this \\nproject has been really impactful, nor critical mass going forward. Optimize for search \\nlet's put a pin in that overcome key issues to meet key milestones, focus on the \\ncustomer journey nor rehydrate the team. Close the loop.\\n \\n \\n \\n\""
      ]
     },
     "execution_count": 20,
     "metadata": {},
     "output_type": "execute_result"
    }
   ],
   "source": [
    "# Get the last page\n",
    "last_page = pdf_reader.getPage(16)\n",
    "\n",
    "# Extracting the text\n",
    "last_page_text = last_page.extractText()\n",
    "\n",
    "last_page_text"
   ]
  },
  {
   "cell_type": "markdown",
   "metadata": {},
   "source": [
    "So, there is no phone number on the last page. It has to be in the text. Problem is that we don't know the actual pattern of the phone number. We can only assume it's a series of numbers, either no separator or separated by either a space or a point in order to be more easly read. First, we will try to grab all the text. Afterwards, using regex, we will try and find a pattern that has 3-10 digits and work from there."
   ]
  },
  {
   "cell_type": "code",
   "execution_count": 21,
   "metadata": {},
   "outputs": [],
   "source": [
    "import re"
   ]
  },
  {
   "cell_type": "code",
   "execution_count": 33,
   "metadata": {},
   "outputs": [],
   "source": [
    "pattern = r\"\\d{3,10}\""
   ]
  },
  {
   "cell_type": "code",
   "execution_count": 26,
   "metadata": {},
   "outputs": [],
   "source": [
    "# String object that will hold our text\n",
    "text = ''\n",
    "\n",
    "# Loop to go through the pages and grab text\n",
    "for n in range(pdf_reader.numPages):\n",
    "    \n",
    "    page = pdf_reader.getPage(n)\n",
    "    page_text = page.extractText()\n",
    "    \n",
    "    text = text+' '+ page_text #concatenation"
   ]
  },
  {
   "cell_type": "code",
   "execution_count": 34,
   "metadata": {},
   "outputs": [
    {
     "name": "stdout",
     "output_type": "stream",
     "text": [
      "['000', '000', '000', '505', '503', '4455']\n"
     ]
    }
   ],
   "source": [
    "phone = re.findall(pattern, text)\n",
    "print(phone)"
   ]
  },
  {
   "cell_type": "markdown",
   "metadata": {},
   "source": [
    "We can make out that the number is `505 503 445`. Since we don't know the exact pattern, we will use wildcard symbols in our regex in order to get that actual phone number."
   ]
  },
  {
   "cell_type": "code",
   "execution_count": 36,
   "metadata": {},
   "outputs": [
    {
     "name": "stdout",
     "output_type": "stream",
     "text": [
      "505.503.4455\n"
     ]
    }
   ],
   "source": [
    "pattern = r\"\\d{3}.\\d{3}.\\d{4}\"\n",
    "\n",
    "phone = re.findall(pattern, text)\n",
    "print(phone[0])"
   ]
  },
  {
   "cell_type": "code",
   "execution_count": 1,
   "metadata": {
    "collapsed": true
   },
   "outputs": [],
   "source": [
    "# You should get this phone number\n",
    "# 505 503 4455"
   ]
  }
 ],
 "metadata": {
  "anaconda-cloud": {},
  "kernelspec": {
   "display_name": "Python 3",
   "language": "python",
   "name": "python3"
  },
  "language_info": {
   "codemirror_mode": {
    "name": "ipython",
    "version": 3
   },
   "file_extension": ".py",
   "mimetype": "text/x-python",
   "name": "python",
   "nbconvert_exporter": "python",
   "pygments_lexer": "ipython3",
   "version": "3.8.5"
  }
 },
 "nbformat": 4,
 "nbformat_minor": 2
}
